import numpy as np
from kaggle_utils.loader_utils import preprocess_data
from kaggle_utils.training_utils import split_and_train, predict_test_data
from kaggle_utils.plot_utils import plot_losses
from kaggle_utils.models.LinearRegression import LinearRegression
from kaggle_utils.models.NeuralNetwork import NeuralNetwork

TRAINING_CSV_PATH = "housing/train.csv"
TESTING_CSV_PATH = "housing/test.csv"
FEATURE_CONFIG_PATH = "housing/feature_config.json"
LABEL_COLUMN = 'SalePrice'
NUM_EPOCHS = 200


training_df = preprocess_data(TRAINING_CSV_PATH, FEATURE_CONFIG_PATH)
X = training_df.drop(LABEL_COLUMN, axis=1).astype(np.float32)
y = training_df[LABEL_COLUMN].astype(np.float32)
X


# Train with Linear Regression
lr_model = LinearRegression(X.shape[1])
lr_model, train_losses, val_losses = split_and_train(X, y, lr_model, NUM_EPOCHS)
plot_losses(train_losses, val_losses)


# Train with NN
input_size = X.shape[1]
nn_model = NeuralNetwork(input_size)
nn_model, train_losses, val_losses = split_and_train(X, y, nn_model, NUM_EPOCHS)
plot_losses(train_losses, val_losses)


testing_df = preprocess_data(TESTING_CSV_PATH,
                             FEATURE_CONFIG_PATH).astype(np.float32)
submission = predict_test_data(nn_model, testing_df)
submission.to_csv('housing/housing_predictions.csv', index=False)



